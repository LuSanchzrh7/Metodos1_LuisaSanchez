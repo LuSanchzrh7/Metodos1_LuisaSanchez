{
 "cells": [
  {
   "cell_type": "markdown",
   "id": "b8d34647",
   "metadata": {},
   "source": [
    "Usando los métodos de Newton-Raphson y descenso del gradiente, encuentre la solución\n",
    "de los siguientes sistemas de ecuaciones no lineales:\n",
    "\n",
    "$$\\ln(x_{1}^{2}+x_{2}^{2})-\\sin(x_1x_2)=\\ln(2)+\\ln(\\pi)$$\n",
    "\n",
    "$$e^{x_1-x_2}+\\cos(x_1x_2)=0$$\n",
    "\n",
    "usando $x^{(0)}=(2,2)$\n",
    "\n",
    "$$6x_1-2\\cos(x_2x_3)-1=0$$\n",
    "\n",
    "$$9x_2+\\sqrt{x_1^{2}+\\sin(x_3)+1.06}+0.9=0$$\n",
    "\n",
    "$$60x_3+3e^{-x_1x_2}+10\\pi-3=0$$\n",
    "\n",
    "usando $x^{(0)}=(0,0,0)$"
   ]
  },
  {
   "cell_type": "code",
   "execution_count": 5,
   "id": "d62feb0e",
   "metadata": {},
   "outputs": [],
   "source": [
    "import numpy as np\n",
    "import matplotlib.pyplot as plt\n",
    "from IPython.display import clear_output\n",
    "import time"
   ]
  },
  {
   "cell_type": "markdown",
   "id": "2e26a7fa",
   "metadata": {},
   "source": [
    "### Newton-Raphson"
   ]
  },
  {
   "cell_type": "code",
   "execution_count": 6,
   "id": "bf7cb3da",
   "metadata": {},
   "outputs": [],
   "source": [
    "# sistema 1\n",
    "G_1=(lambda x,y: np.log((x**2)+(y**2))-np.sin(x*y)-np.log(2)-np.log(np.pi), \\\n",
    "   lambda x,y: np.exp(x-y)+np.cos(x*y))"
   ]
  },
  {
   "cell_type": "code",
   "execution_count": 7,
   "id": "e08c085e",
   "metadata": {},
   "outputs": [],
   "source": [
    "# sistema 2\n",
    "G_2=(lambda x,y,z: 6*x - 2*np.cos(y*z) - 1, \\\n",
    "   lambda x,y,z: 9*y + np.sqrt((x**2)+np.sin(z)+1.06) + 0.9, \\\n",
    "   lambda x,y,z: 60*z + 3*np.exp(-x*y) + 10*np.pi- 3)"
   ]
  },
  {
   "cell_type": "code",
   "execution_count": 8,
   "id": "51d6e5bb",
   "metadata": {},
   "outputs": [
    {
     "name": "stdout",
     "output_type": "stream",
     "text": [
      "0.9983669705784182\n",
      "0.34635637913638806\n"
     ]
    }
   ],
   "source": [
    "for i in range(2):\n",
    "    print(G_1[i](2,2))"
   ]
  },
  {
   "cell_type": "code",
   "execution_count": 9,
   "id": "ff0358db",
   "metadata": {},
   "outputs": [
    {
     "name": "stdout",
     "output_type": "stream",
     "text": [
      "-3.0\n",
      "1.9295630140987\n",
      "31.41592653589793\n"
     ]
    }
   ],
   "source": [
    "for i in range(3):\n",
    "    print(G_2[i](0,0,0))"
   ]
  },
  {
   "cell_type": "code",
   "execution_count": 10,
   "id": "34209333",
   "metadata": {},
   "outputs": [],
   "source": [
    "def GetVectorF(G,r):\n",
    "    \n",
    "    dim = len(G)\n",
    "    \n",
    "    v = np.zeros(dim)\n",
    "    if dim==1:\n",
    "        for i in range(dim):\n",
    "            v[i] = G[i](r[0])\n",
    "    elif dim==2:\n",
    "        for i in range(dim):\n",
    "            v[i] = G[i](r[0],r[1])\n",
    "    elif dim==3:\n",
    "        for i in range(dim):\n",
    "            v[i] = G[i](r[0],r[1],r[2])\n",
    "    elif dim==4:\n",
    "        for i in range(dim):\n",
    "            v[i] = G[i](r[0],r[1],r[2],r[3])\n",
    "    elif dim==5:\n",
    "        for i in range(dim):\n",
    "            v[i] = G[i](r[0],r[1],r[2],r[3],r[4])\n",
    "    else:\n",
    "        v=0\n",
    "        print(\"Este sistema de ecuaciones es demasiado extenso :,(\")\n",
    "    return v"
   ]
  },
  {
   "cell_type": "code",
   "execution_count": 11,
   "id": "7ac92290",
   "metadata": {},
   "outputs": [],
   "source": [
    "V_1=GetVectorF(G_1,(2,2))\n",
    "V_2=GetVectorF(G_2,(0,0,0))"
   ]
  },
  {
   "cell_type": "code",
   "execution_count": 12,
   "id": "3f232e39",
   "metadata": {},
   "outputs": [
    {
     "data": {
      "text/plain": [
       "(array([0.99836697, 0.34635638]),\n",
       " array([-3.        ,  1.92956301, 31.41592654]))"
      ]
     },
     "execution_count": 12,
     "metadata": {},
     "output_type": "execute_result"
    }
   ],
   "source": [
    "V_1,V_2"
   ]
  },
  {
   "cell_type": "code",
   "execution_count": 13,
   "id": "1f8e4b2b",
   "metadata": {},
   "outputs": [],
   "source": [
    "def GetJacobian(G,r,h=1e-6):\n",
    "    \n",
    "    dim = len(G)\n",
    "    \n",
    "    J = np.zeros((dim,dim))\n",
    "    if dim==1:\n",
    "        for i in range(dim):\n",
    "            J[i,0] = (  G[i](r[0]+h) - G[i](r[0]-h) )/(2*h)\n",
    "    elif dim==2:\n",
    "        for i in range(dim):\n",
    "            J[i,0] = (  G[i](r[0]+h,r[1]) - G[i](r[0]-h,r[1]) )/(2*h)\n",
    "            J[i,1] = (  G[i](r[0],r[1]+h) - G[i](r[0],r[1]-h) )/(2*h)\n",
    "    elif dim==3:\n",
    "        for i in range(dim):\n",
    "            J[i,0] = (  G[i](r[0]+h,r[1],r[2]) - G[i](r[0]-h,r[1],r[2]) )/(2*h)\n",
    "            J[i,1] = (  G[i](r[0],r[1]+h,r[2]) - G[i](r[0],r[1]-h,r[2]) )/(2*h)\n",
    "            J[i,2] = (  G[i](r[0],r[1],r[2]+h) - G[i](r[0],r[1],r[2]-h) )/(2*h)\n",
    "    elif dim==4:\n",
    "        for i in range(dim):\n",
    "            J[i,0] = (  G[i](r[0]+h,r[1],r[2],r[3]) - G[i](r[0]-h,r[1],r[2],r[3]) )/(2*h)\n",
    "            J[i,1] = (  G[i](r[0],r[1]+h,r[2],r[3]) - G[i](r[0],r[1]-h,r[2],r[3]) )/(2*h)\n",
    "            J[i,2] = (  G[i](r[0],r[1],r[2]+h,r[3]) - G[i](r[0],r[1],r[2]-h,r[3]) )/(2*h)\n",
    "            J[i,3] = (  G[i](r[0],r[1],r[2],r[3]+h) - G[i](r[0],r[1],r[2],r[3]-h) )/(2*h)\n",
    "    elif dim==5:\n",
    "        for i in range(dim):\n",
    "            J[i,0] = (  G[i](r[0]+h,r[1],r[2],r[3],r[4]) - G[i](r[0]-h,r[1],r[2],r[3],r[4]) )/(2*h)\n",
    "            J[i,1] = (  G[i](r[0],r[1]+h,r[2],r[3],r[4]) - G[i](r[0],r[1]-h,r[2],r[3],r[4]) )/(2*h)\n",
    "            J[i,2] = (  G[i](r[0],r[1],r[2]+h,r[3],r[4]) - G[i](r[0],r[1],r[2]-h,r[3],r[4]) )/(2*h)\n",
    "            J[i,3] = (  G[i](r[0],r[1],r[2],r[3]+h,r[4]) - G[i](r[0],r[1],r[2],r[3]-h,r[4]) )/(2*h)\n",
    "            J[i,4] = (  G[i](r[0],r[1],r[2],r[3],r[4]+h) - G[i](r[0],r[1],r[2],r[3],r[4]-h) )/(2*h)\n",
    "    else:\n",
    "        J=0\n",
    "        print(\"wey ya\")\n",
    "    return J.T"
   ]
  },
  {
   "cell_type": "code",
   "execution_count": 14,
   "id": "e0cbdfd6",
   "metadata": {},
   "outputs": [],
   "source": [
    "def NewtonRaphson(G,r,error=1e-10):\n",
    "    \n",
    "    it = 0\n",
    "    d = 1\n",
    "    Vector_d = np.array([])\n",
    "    \n",
    "    while d > error:\n",
    "        \n",
    "        it += 1\n",
    "        \n",
    "        rc = r\n",
    "        \n",
    "        F = GetVectorF(G,r)\n",
    "        J = GetJacobian(G,r)\n",
    "        InvJ = np.linalg.inv(J)\n",
    "        \n",
    "        r = rc - np.dot( InvJ, F )\n",
    "        \n",
    "        diff = r - rc\n",
    "        \n",
    "        d = np.linalg.norm(diff)\n",
    "        \n",
    "        Vector_d = np.append( Vector_d , d )\n",
    "        \n",
    "    return r,it,Vector_d"
   ]
  },
  {
   "cell_type": "code",
   "execution_count": 15,
   "id": "7161d846",
   "metadata": {},
   "outputs": [],
   "source": [
    "res_1,it_1,distancias_1 = NewtonRaphson(G_1,[2,2])\n",
    "res_2,it_2,distancias_2 = NewtonRaphson(G_2,[0,0,0])"
   ]
  },
  {
   "cell_type": "code",
   "execution_count": 16,
   "id": "98c32814",
   "metadata": {},
   "outputs": [
    {
     "name": "stdout",
     "output_type": "stream",
     "text": [
      "[1.77245385 1.77245385] 109\n",
      "[ 0.49814468 -0.1996059  -0.52882598] 12\n"
     ]
    }
   ],
   "source": [
    "print(res_1,it_1)\n",
    "print(res_2,it_2)"
   ]
  },
  {
   "cell_type": "code",
   "execution_count": 17,
   "id": "c5a2d298",
   "metadata": {},
   "outputs": [
    {
     "data": {
      "text/plain": [
       "(array([-0.,  0.]), array([-0.,  0.,  0.]))"
      ]
     },
     "execution_count": 17,
     "metadata": {},
     "output_type": "execute_result"
    }
   ],
   "source": [
    "np.round(GetVectorF(G_1,res_1)),np.round(GetVectorF(G_2,res_2))"
   ]
  },
  {
   "cell_type": "markdown",
   "id": "099fb776",
   "metadata": {},
   "source": [
    "### Descenso de gradiente"
   ]
  },
  {
   "cell_type": "code",
   "execution_count": 18,
   "id": "a219de90",
   "metadata": {},
   "outputs": [],
   "source": [
    "def GetMetric(G,r):\n",
    "    v = GetVectorF(G,r)\n",
    "    return 0.5*np.linalg.norm(v)**2"
   ]
  },
  {
   "cell_type": "code",
   "execution_count": 19,
   "id": "40626cf6",
   "metadata": {},
   "outputs": [],
   "source": [
    "M_1=GetMetric(G_1,[2,2])\n",
    "M_2=GetMetric(G_2,[0,0,0])"
   ]
  },
  {
   "cell_type": "code",
   "execution_count": 20,
   "id": "c3606de6",
   "metadata": {},
   "outputs": [
    {
     "data": {
      "text/plain": [
       "(0.5583496746551987, 499.8418267671567)"
      ]
     },
     "execution_count": 20,
     "metadata": {},
     "output_type": "execute_result"
    }
   ],
   "source": [
    "M_1,M_2"
   ]
  },
  {
   "cell_type": "code",
   "execution_count": 21,
   "id": "e1644776",
   "metadata": {},
   "outputs": [],
   "source": [
    "def GetFig(F,R,it):\n",
    "    \n",
    "    fig = plt.figure(figsize=(8,4))\n",
    "    \n",
    "    labels = ['X','Y','Z']\n",
    "    \n",
    "    ax = fig.add_subplot(1,2,1)\n",
    "    ax1 = fig.add_subplot(1,2,2)\n",
    "\n",
    "    ax.set_title('Metric: %.20f' %(F[it]))\n",
    "\n",
    "    ax.plot(F[:it])\n",
    "    ax.set_xlabel('%.0f' %(it))\n",
    "    ax.set_yscale('log')\n",
    "    ax1.plot(R[:it],label=labels)\n",
    "    ax1.set_xlabel('%.0f' %(it))\n",
    "    ax1.legend(loc=0)\n",
    "    \n",
    "    plt.show()"
   ]
  },
  {
   "cell_type": "code",
   "execution_count": 22,
   "id": "835c7805",
   "metadata": {},
   "outputs": [],
   "source": [
    "def GetSolve_3(G,r,lr=1e-3,epochs=int(1e5),error=1e-7):\n",
    "    \n",
    "    d = 1\n",
    "    it = 0\n",
    "    Vector_F = np.array([])\n",
    "    \n",
    "    R_vector = np.array(r)\n",
    "    \n",
    "    while d > error and it < epochs:\n",
    "        \n",
    "        CurrentF = GetMetric(G,r)\n",
    "        \n",
    "        J = GetJacobian(G,r)\n",
    "        \n",
    "        GVector = GetVectorF(G,r)\n",
    "        \n",
    "        #Machine Learning\n",
    "        r -= lr*np.dot(J,GVector) \n",
    "        \n",
    "        R_vector = np.vstack((R_vector,r))\n",
    "        \n",
    "        NewF = GetMetric(G,r)\n",
    "        \n",
    "        \n",
    "        Vector_F = np.append(Vector_F,NewF)\n",
    "        \n",
    "        d = np.abs( CurrentF - NewF )/NewF\n",
    "        \n",
    "        \n",
    "        \"\"\"\"if it%500 == 0:\n",
    "            \n",
    "            #print(it,d)\n",
    "            clear_output(wait=True)\n",
    "            GetFig(Vector_F,R_vector,it)\n",
    "            time.sleep(0.01)\"\"\"\n",
    "            \n",
    "        it += 1\n",
    "        \n",
    "    if d < error:\n",
    "        print(' Entrenamiento completo ', d, 'iteraciones', it)\n",
    "        \n",
    "    if it == epochs:\n",
    "        print(' Entrenamiento no completado ')\n",
    "        \n",
    "    return r,it,Vector_F,R_vector"
   ]
  },
  {
   "cell_type": "code",
   "execution_count": 27,
   "id": "90de9a90",
   "metadata": {},
   "outputs": [
    {
     "name": "stdout",
     "output_type": "stream",
     "text": [
      " Entrenamiento completo  0.0 iteraciones 8536\n",
      " Entrenamiento completo  0.0 iteraciones 13218\n"
     ]
    },
    {
     "data": {
      "text/plain": [
       "(array([ 0.49814468, -0.1996059 , -0.52882598]),\n",
       " array([1.77245385, 1.77245385]))"
      ]
     },
     "execution_count": 27,
     "metadata": {},
     "output_type": "execute_result"
    }
   ],
   "source": [
    "xsol1,it1,F1,R1 = GetSolve_3(G_2,[0,0,0],lr=1e-4)\n",
    "xsol2,it2,F2,R2 = GetSolve_3(G_1,[2,2],lr=1e-3)\n",
    "xsol1,xsol2"
   ]
  }
 ],
 "metadata": {
  "kernelspec": {
   "display_name": "Python 3 (ipykernel)",
   "language": "python",
   "name": "python3"
  },
  "language_info": {
   "codemirror_mode": {
    "name": "ipython",
    "version": 3
   },
   "file_extension": ".py",
   "mimetype": "text/x-python",
   "name": "python",
   "nbconvert_exporter": "python",
   "pygments_lexer": "ipython3",
   "version": "3.9.12"
  }
 },
 "nbformat": 4,
 "nbformat_minor": 5
}
