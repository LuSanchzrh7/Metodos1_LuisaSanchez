{
 "cells": [
  {
   "cell_type": "markdown",
   "id": "79270606",
   "metadata": {},
   "source": [
    "Implemente el algoritmo de Gaus-Seidel para resolver el sistema de ecuaciones visto en\n",
    "clase.\n",
    "\n",
    "$\\textrm{Sistema de ecuaciones a resolver:}$\n",
    "$$A=\\begin{bmatrix}\n",
    "3 & -1 & -1\\\\ \n",
    "-1 & 3 & 1\\\\ \n",
    " 2& 1 & 4\n",
    "\\end{bmatrix}$$\n",
    "$$B=\\begin{bmatrix}\n",
    "1 & 3 & 7\n",
    "\\end{bmatrix}\n",
    "$$\n",
    "\n"
   ]
  },
  {
   "cell_type": "code",
   "execution_count": 61,
   "id": "b0c5902c",
   "metadata": {},
   "outputs": [],
   "source": [
    "import numpy as np"
   ]
  },
  {
   "cell_type": "code",
   "execution_count": 69,
   "id": "005fc48d",
   "metadata": {},
   "outputs": [],
   "source": [
    "A = np.array([[3,-1,-1],[-1.,3.,1.],[2,1,4]])\n",
    "B = np.array([1.,3.,7.])"
   ]
  },
  {
   "cell_type": "code",
   "execution_count": 85,
   "id": "c4244f61",
   "metadata": {},
   "outputs": [],
   "source": [
    "tam = np.shape(A)\n",
    "n = tam[0]\n",
    "m = tam[1]\n",
    "x_0 = np.array([0,0,0])\n",
    "tolerancia = 0.0001\n",
    "max_iter = 1000"
   ]
  },
  {
   "cell_type": "code",
   "execution_count": 86,
   "id": "b6d2b685",
   "metadata": {},
   "outputs": [],
   "source": [
    "#V_iniciales\n",
    "X = np.copy(x_0)\n",
    "v_dif = np.ones(n,dtype=float)\n",
    "errado = 2*tolerancia"
   ]
  },
  {
   "cell_type": "code",
   "execution_count": 87,
   "id": "42f0f821",
   "metadata": {},
   "outputs": [
    {
     "data": {
      "text/plain": [
       "3"
      ]
     },
     "execution_count": 87,
     "metadata": {},
     "output_type": "execute_result"
    }
   ],
   "source": [
    "i=0\n",
    "it = 0\n",
    "while not(errado<=tolerancia or it>max_iter):\n",
    "    for i in range(0,n):\n",
    "        suma = 0\n",
    "        for j in range(0,n):\n",
    "            if (j != i):\n",
    "                suma += (A[i,j]*X[j])\n",
    "        act = (B[i]-suma)/(A[i,i])\n",
    "        v_dif[i]=np.abs(act-X[i])\n",
    "        X[i] = act\n",
    "    errado=np.max(v_dif)\n",
    "    it += 1"
   ]
  },
  {
   "cell_type": "code",
   "execution_count": 89,
   "id": "f809cdec",
   "metadata": {},
   "outputs": [],
   "source": [
    "#si el producto punto es igual al vector B, el sistema fue resuelto de manera satisfactoria\n",
    "si=np.dot(A,X)"
   ]
  },
  {
   "cell_type": "code",
   "execution_count": 90,
   "id": "0835ea7d",
   "metadata": {},
   "outputs": [],
   "source": [
    "#convergencia\n",
    "X = np.transpose([X])\n",
    "if it>max_iter:\n",
    "    X=0\n",
    "    print(\"No se logro la convergencia del sistema de ecuaciones\")"
   ]
  },
  {
   "cell_type": "code",
   "execution_count": 91,
   "id": "a8ab1724",
   "metadata": {},
   "outputs": [
    {
     "name": "stdout",
     "output_type": "stream",
     "text": [
      "respuesta X: \n",
      "[[1]\n",
      " [1]\n",
      " [1]]\n",
      "verificar A.X=B: \n",
      "[1. 3. 7.]\n"
     ]
    }
   ],
   "source": [
    "print('respuesta X: ')\n",
    "print(X)\n",
    "print('verificar A.X=B: ')\n",
    "print(si)"
   ]
  }
 ],
 "metadata": {
  "kernelspec": {
   "display_name": "Python 3 (ipykernel)",
   "language": "python",
   "name": "python3"
  },
  "language_info": {
   "codemirror_mode": {
    "name": "ipython",
    "version": 3
   },
   "file_extension": ".py",
   "mimetype": "text/x-python",
   "name": "python",
   "nbconvert_exporter": "python",
   "pygments_lexer": "ipython3",
   "version": "3.9.12"
  }
 },
 "nbformat": 4,
 "nbformat_minor": 5
}
