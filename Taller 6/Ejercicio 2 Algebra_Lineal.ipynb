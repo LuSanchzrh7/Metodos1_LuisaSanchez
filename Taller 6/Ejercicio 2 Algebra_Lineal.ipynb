{
 "cells": [
  {
   "cell_type": "markdown",
   "id": "0a27e535",
   "metadata": {},
   "source": [
    "En Python, implemente una clase para solucionar sistemas lineales. El constructor de clase\n",
    "deber recibir la matriz y el vector independiente. El primer método de clase resuelve el\n",
    "sistema usando el método de Jacobi, y el segundo método resuelve el sistema usando el\n",
    "método de Gauss-Seidel. En la pantalla debe aparecer el número de iteraciones necesarias\n",
    "para resolver el problema."
   ]
  },
  {
   "cell_type": "code",
   "execution_count": 1,
   "id": "2ee9c888",
   "metadata": {},
   "outputs": [],
   "source": [
    "import numpy as np\n",
    "import matplotlib.pyplot as plt"
   ]
  },
  {
   "cell_type": "code",
   "execution_count": 40,
   "id": "8fef2b01",
   "metadata": {},
   "outputs": [],
   "source": [
    "class SolveLinEquations:\n",
    "    def __init__(self, Matrix, Vector_i):\n",
    "        self.m = Matrix\n",
    "        self.v = Vector_i\n",
    "    def JacobiMethod(self,itmax=1000,error = 1e-10):\n",
    "        A= self.m\n",
    "        b= self.v\n",
    "        m,n = A.shape\n",
    "        x = np.zeros(n)\n",
    "    \n",
    "        sumk = np.zeros_like(x)\n",
    "\n",
    "        x = [13,20,-1]\n",
    "\n",
    "        it = 0\n",
    "\n",
    "        residuo = np.linalg.norm( b - np.dot(A,x) )\n",
    "\n",
    "        while ( residuo > error and it < itmax ):\n",
    "\n",
    "            it += 1\n",
    "\n",
    "            for i in range(m):\n",
    "                sum_ = 0\n",
    "                for j in range(n):\n",
    "                    if i != j:\n",
    "                        sum_ += A[i][j]*x[j]\n",
    "                sumk[i] = sum_\n",
    "\n",
    "            for i in range(m):\n",
    "\n",
    "                if A[i,i] != 0:\n",
    "                    x[i] = (b[i] - sumk[i])/A[i,i]\n",
    "                else:\n",
    "                    print('No invertible con Jacobi')\n",
    "            print(\"iteración numero \"+str(it)+\":\")\n",
    "            print(x)\n",
    "            residuo = np.linalg.norm( b - np.dot(A,x) )\n",
    "        return x,it,residuo\n",
    "    \n",
    "    def Gauss_Seidel(self,max_iter=1000,tolerancia=1e-10):\n",
    "        A= self.m\n",
    "        B= self.v\n",
    "        tam = np.shape(A)\n",
    "        n = tam[0]\n",
    "        m = tam[1]\n",
    "        x_0 = np.array([0,0,0])\n",
    "        #V_iniciales\n",
    "        X = np.copy(x_0)\n",
    "        v_dif = np.ones(n,dtype=float)\n",
    "        errado = 2*tolerancia\n",
    "        it = 0\n",
    "        while not(errado<=tolerancia or it>max_iter):\n",
    "            for i in range(0,n):\n",
    "                suma = 0\n",
    "                for j in range(0,n):\n",
    "                    if (j != i):\n",
    "                        suma += (A[i,j]*X[j])\n",
    "                act = (B[i]-suma)/(A[i,i])\n",
    "                v_dif[i]=np.abs(act-X[i])\n",
    "                X[i] = act\n",
    "            errado=np.max(v_dif)\n",
    "            it += 1\n",
    "            print(\"iteración numero \"+str(it)+\":\")\n",
    "            print(X)\n",
    "            residuo = np.linalg.norm( B - np.dot(A,X) )\n",
    "        if it>max_iter:\n",
    "            X=0\n",
    "            print(\"No se logro la convergencia del sistema de ecuaciones\")\n",
    "        return X,it,residuo"
   ]
  },
  {
   "cell_type": "code",
   "execution_count": 41,
   "id": "624bf430",
   "metadata": {},
   "outputs": [],
   "source": [
    "M = np.array([[3,-1,-1],[-1.,3.,1.],[2,1,4]])\n",
    "b = np.array([1.,3.,7.])\n",
    "eq = SolveLinEquations(M,b)"
   ]
  },
  {
   "cell_type": "code",
   "execution_count": 42,
   "id": "74fbcc18",
   "metadata": {},
   "outputs": [
    {
     "name": "stdout",
     "output_type": "stream",
     "text": [
      "iteración numero 1:\n",
      "[0 1 1]\n",
      "iteración numero 2:\n",
      "[1 1 1]\n",
      "iteración numero 3:\n",
      "[1 1 1]\n"
     ]
    }
   ],
   "source": [
    "x,it,residuo=eq.Gauss_Seidel()"
   ]
  },
  {
   "cell_type": "code",
   "execution_count": 43,
   "id": "1ac49262",
   "metadata": {},
   "outputs": [
    {
     "name": "stdout",
     "output_type": "stream",
     "text": [
      "iteración numero 1:\n",
      "[6.666666666666667, 5.666666666666667, -9.75]\n",
      "iteración numero 2:\n",
      "[-1.0277777777777777, 6.472222222222222, -3.0]\n",
      "iteración numero 3:\n",
      "[1.4907407407407407, 1.6574074074074074, 0.6458333333333333]\n",
      "iteración numero 4:\n",
      "[1.10108024691358, 1.2816358024691359, 0.5902777777777777]\n",
      "iteración numero 5:\n",
      "[0.9573045267489713, 1.170267489711934, 0.879050925925926]\n",
      "iteración numero 6:\n",
      "[1.0164394718792866, 1.0260845336076818, 0.9787808641975309]\n",
      "iteración numero 7:\n",
      "[1.0016217992684042, 1.012552869227252, 0.9852591306584362]\n",
      "iteración numero 8:\n",
      "[0.9992706666285628, 1.0054542228699894, 0.9960508830589849]\n",
      "iteración numero 9:\n",
      "[1.0005017019763247, 1.0010732611898592, 0.9990011109682213]\n",
      "iteración numero 10:\n",
      "[1.0000247907193602, 1.0005001970027012, 0.9994808337143728]\n",
      "iteración numero 11:\n",
      "[0.9999936769056914, 1.0001813190016626, 0.9998625553896445]\n",
      "iteración numero 12:\n",
      "[1.0000146247971025, 1.0000437071720156, 0.9999578317967386]\n",
      "iteración numero 13:\n",
      "[1.0000005129895848, 1.0000189310001213, 0.9999817608084449]\n",
      "iteración numero 14:\n",
      "[1.0000002306028553, 1.0000062507270466, 0.9999950107551773]\n",
      "iteración numero 15:\n",
      "[1.0000004204940747, 1.000001739949226, 0.9999983220168107]\n",
      "iteración numero 16:\n",
      "[1.0000000206553457, 1.0000006994924213, 0.9999993547656562]\n",
      "iteración numero 17:\n",
      "[1.0000000180860258, 1.0000002219632298, 0.9999998147992218]\n",
      "iteración numero 18:\n",
      "[1.0000000122541506, 1.000000067762268, 0.9999999354661797]\n",
      "iteración numero 19:\n",
      "[1.0000000010761492, 1.0000000255959902, 0.9999999769323578]\n",
      "iteración numero 20:\n",
      "[1.0000000008427827, 1.0000000080479305, 0.9999999930629279]\n",
      "iteración numero 21:\n",
      "[1.0000000003702862, 1.000000002593285, 0.999999997566626]\n",
      "iteración numero 22:\n",
      "[1.0000000000533038, 1.0000000009345535, 0.9999999991665356]\n",
      "iteración numero 23:\n",
      "[1.0000000000336964, 1.0000000002955893, 0.9999999997397098]\n",
      "iteración numero 24:\n",
      "[1.0000000000117664, 1.0000000000979956, 0.9999999999092545]\n",
      "iteración numero 25:\n",
      "[1.0000000000024167, 1.0000000000341707, 0.9999999999696179]\n",
      "iteración numero 26:\n",
      "[1.0000000000012628, 1.0000000000109328, 0.9999999999902489]\n"
     ]
    }
   ],
   "source": [
    "x_j,it_j,residuo_j=eq.JacobiMethod()"
   ]
  },
  {
   "cell_type": "code",
   "execution_count": 30,
   "id": "ad54834a",
   "metadata": {},
   "outputs": [
    {
     "data": {
      "text/plain": [
       "array([1, 1, 1])"
      ]
     },
     "execution_count": 30,
     "metadata": {},
     "output_type": "execute_result"
    }
   ],
   "source": [
    "x"
   ]
  },
  {
   "cell_type": "code",
   "execution_count": 31,
   "id": "056d825c",
   "metadata": {},
   "outputs": [
    {
     "data": {
      "text/plain": [
       "[1.0000000000012628, 1.0000000000109328, 0.9999999999902489]"
      ]
     },
     "execution_count": 31,
     "metadata": {},
     "output_type": "execute_result"
    }
   ],
   "source": [
    "x_j"
   ]
  },
  {
   "cell_type": "code",
   "execution_count": null,
   "id": "5ea821ed",
   "metadata": {},
   "outputs": [],
   "source": []
  }
 ],
 "metadata": {
  "kernelspec": {
   "display_name": "Python 3 (ipykernel)",
   "language": "python",
   "name": "python3"
  },
  "language_info": {
   "codemirror_mode": {
    "name": "ipython",
    "version": 3
   },
   "file_extension": ".py",
   "mimetype": "text/x-python",
   "name": "python",
   "nbconvert_exporter": "python",
   "pygments_lexer": "ipython3",
   "version": "3.9.12"
  }
 },
 "nbformat": 4,
 "nbformat_minor": 5
}
