{
 "cells": [
  {
   "cell_type": "markdown",
   "id": "a4841b28",
   "metadata": {},
   "source": [
    "Implemente un algoritmo que realice la multiplicación de dos matrices. Use el algoritmo\n",
    "para calcular:\n",
    "$$\\mathbb{AB}=\\begin{pmatrix}\n",
    "1 & 0 & 0\\\\ \n",
    "5 & 1 & 0\\\\ \n",
    "-2 & 3 & 1\n",
    "\\end{pmatrix}\\begin{pmatrix}\n",
    "4 & -2 & 1\\\\ \n",
    "0 & 3 & 7\\\\ \n",
    "0 & 0 & 2\n",
    "\\end{pmatrix}$$"
   ]
  },
  {
   "cell_type": "code",
   "execution_count": 1,
   "id": "d7a544a2",
   "metadata": {},
   "outputs": [],
   "source": [
    "import numpy as np"
   ]
  },
  {
   "cell_type": "code",
   "execution_count": 26,
   "id": "731defb7",
   "metadata": {},
   "outputs": [],
   "source": [
    "def Solve_mult_matrix(A,B):\n",
    "    N=A.shape\n",
    "    M=B.shape\n",
    "    if N[1]==M[0]:\n",
    "        res=np.zeros((N[0],M[1]),dtype = int)\n",
    "        for i in range(N[0]): \n",
    "            for j in range(M[1]):\n",
    "                for k in range(len(B)):\n",
    "                    res[i, j] += A[i, k] * B[k, j]\n",
    "    else:\n",
    "        res= \"estas matrices no pueden ser multiplicadas\"\n",
    "    return res"
   ]
  },
  {
   "cell_type": "code",
   "execution_count": 27,
   "id": "d112f3d8",
   "metadata": {},
   "outputs": [
    {
     "name": "stdout",
     "output_type": "stream",
     "text": [
      "Matrix A:\n",
      " [[ 1  0  0]\n",
      " [ 5  1  0]\n",
      " [-2  3  1]]\n",
      "\n",
      "Matrix B:\n",
      " [[ 4 -2  1]\n",
      " [ 0  3  7]\n",
      " [ 0  0  2]]\n",
      "\n"
     ]
    }
   ],
   "source": [
    "A = np.array([[1,0,0],[5,1,0],[-2,3,1]])\n",
    "B = np.array([[4,-2,1],[0,3,7],[0,0,2]])\n",
    "print(f\"Matrix A:\\n {A}\\n\")\n",
    "print(f\"Matrix B:\\n {B}\\n\")\n"
   ]
  },
  {
   "cell_type": "code",
   "execution_count": 28,
   "id": "5c7f031a",
   "metadata": {},
   "outputs": [
    {
     "name": "stdout",
     "output_type": "stream",
     "text": [
      "Matris resultante AB:\n",
      " [[ 4 -2  1]\n",
      " [20 -7 12]\n",
      " [-8 13 21]]\n",
      "\n"
     ]
    }
   ],
   "source": [
    "res=Solve_mult_matrix(A,B)\n",
    "print(f\"Matris resultante AB:\\n {res}\\n\")"
   ]
  }
 ],
 "metadata": {
  "kernelspec": {
   "display_name": "Python 3 (ipykernel)",
   "language": "python",
   "name": "python3"
  },
  "language_info": {
   "codemirror_mode": {
    "name": "ipython",
    "version": 3
   },
   "file_extension": ".py",
   "mimetype": "text/x-python",
   "name": "python",
   "nbconvert_exporter": "python",
   "pygments_lexer": "ipython3",
   "version": "3.9.12"
  }
 },
 "nbformat": 4,
 "nbformat_minor": 5
}
