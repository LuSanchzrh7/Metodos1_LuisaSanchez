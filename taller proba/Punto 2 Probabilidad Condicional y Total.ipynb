{
 "cells": [
  {
   "cell_type": "code",
   "execution_count": 3,
   "metadata": {},
   "outputs": [],
   "source": [
    "import numpy as np\n",
    "import matplotlib.pyplot as plt"
   ]
  },
  {
   "cell_type": "code",
   "execution_count": 4,
   "metadata": {},
   "outputs": [],
   "source": [
    "Urna = np.array([0,1]) #1|2\n",
    "Color = np.array([0,1,2]) #roja|negra|verde"
   ]
  },
  {
   "cell_type": "code",
   "execution_count": 6,
   "metadata": {},
   "outputs": [],
   "source": [
    "PUrna = np.array([2/6,4/6])\n",
    "PColorUrna1 = np.array([3/10,1/10,6/10])\n",
    "PColorUrna2 = np.array([6/10,2/10, 2/10])"
   ]
  },
  {
   "cell_type": "code",
   "execution_count": 42,
   "metadata": {},
   "outputs": [],
   "source": [
    "N = int(1e5)\n",
    "\n",
    "LUrna = np.zeros(N)\n",
    "LColor = np.zeros(N)\n",
    "NRojo=0\n",
    "NNegro=0\n",
    "NVerde=0\n",
    "NNegroUrna1=0\n",
    "NNegroUrna2=0\n",
    "\n",
    "for i in range(N):\n",
    "    \n",
    "    LUrna[i] = np.random.choice(Urna, p=PUrna)\n",
    "    \n",
    "    if LUrna[i] == 0:\n",
    "        c = np.random.choice(Color, p=PColorUrna1)\n",
    "        if c == 0:\n",
    "            LColor[i] = 0\n",
    "            NRojo+=1\n",
    "        elif c==1:\n",
    "            LColor[i]=1\n",
    "            NNegro+=1\n",
    "            NNegroUrna1+=1\n",
    "        elif c==2:\n",
    "            LColor[i]=2\n",
    "            NVerde+=1\n",
    "    else:\n",
    "        c = np.random.choice(Color, p=PColorUrna2)\n",
    "        if c == 0:\n",
    "            LColor[i] = 0\n",
    "            NRojo+=1\n",
    "        elif c==1:\n",
    "            LColor[i]=1\n",
    "            NNegro+=1\n",
    "            NNegroUrna2+=1\n",
    "        elif c==2:\n",
    "            LColor[i]=2\n",
    "            NVerde+=1\n",
    "            "
   ]
  },
  {
   "cell_type": "code",
   "execution_count": 43,
   "metadata": {},
   "outputs": [
    {
     "data": {
      "text/plain": [
       "0.50034"
      ]
     },
     "execution_count": 43,
     "metadata": {},
     "output_type": "execute_result"
    }
   ],
   "source": [
    "NRojo/N #numeral a"
   ]
  },
  {
   "cell_type": "code",
   "execution_count": 44,
   "metadata": {},
   "outputs": [
    {
     "data": {
      "text/plain": [
       "0.16615"
      ]
     },
     "execution_count": 44,
     "metadata": {},
     "output_type": "execute_result"
    }
   ],
   "source": [
    "NNegro/N #numeral b"
   ]
  },
  {
   "cell_type": "code",
   "execution_count": 45,
   "metadata": {},
   "outputs": [
    {
     "data": {
      "text/plain": [
       "0.19909720132410472"
      ]
     },
     "execution_count": 45,
     "metadata": {},
     "output_type": "execute_result"
    }
   ],
   "source": [
    "NNegroUrna1/NNegro #numeral c"
   ]
  },
  {
   "cell_type": "code",
   "execution_count": 46,
   "metadata": {},
   "outputs": [
    {
     "data": {
      "text/plain": [
       "0.8009027986758953"
      ]
     },
     "execution_count": 46,
     "metadata": {},
     "output_type": "execute_result"
    }
   ],
   "source": [
    "NNegroUrna2/NNegro"
   ]
  },
  {
   "cell_type": "code",
   "execution_count": null,
   "metadata": {},
   "outputs": [],
   "source": []
  }
 ],
 "metadata": {
  "kernelspec": {
   "display_name": "Python 3",
   "language": "python",
   "name": "python3"
  },
  "language_info": {
   "codemirror_mode": {
    "name": "ipython",
    "version": 3
   },
   "file_extension": ".py",
   "mimetype": "text/x-python",
   "name": "python",
   "nbconvert_exporter": "python",
   "pygments_lexer": "ipython3",
   "version": "3.8.3"
  }
 },
 "nbformat": 4,
 "nbformat_minor": 4
}
