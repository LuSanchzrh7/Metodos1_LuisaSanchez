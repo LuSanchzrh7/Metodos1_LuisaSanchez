{
  "nbformat": 4,
  "nbformat_minor": 0,
  "metadata": {
    "colab": {
      "provenance": []
    },
    "kernelspec": {
      "name": "python3",
      "display_name": "Python 3"
    },
    "language_info": {
      "name": "python"
    }
  },
  "cells": [
    {
      "cell_type": "code",
      "execution_count": 1,
      "metadata": {
        "id": "rw3mTWgZBkP2"
      },
      "outputs": [],
      "source": [
        "import numpy as np\n",
        "import random\n",
        "import matplotlib.pyplot as plt"
      ]
    },
    {
      "cell_type": "code",
      "source": [
        "r=10 #no pueden ser mayor a 10\n",
        "n=3 #tres casillas"
      ],
      "metadata": {
        "id": "7Q4aSuNHB7BU"
      },
      "execution_count": 2,
      "outputs": []
    },
    {
      "cell_type": "code",
      "source": [
        "f_1=n+r-1\n",
        "f_2=n-1"
      ],
      "metadata": {
        "id": "E1T2dc5eF7OS"
      },
      "execution_count": 18,
      "outputs": []
    },
    {
      "cell_type": "code",
      "source": [
        "ar=1\n",
        "for i in range(f_1+1):\n",
        "  if i !=0:\n",
        "    ar=ar*i\n",
        "ar"
      ],
      "metadata": {
        "colab": {
          "base_uri": "https://localhost:8080/"
        },
        "id": "rntPIPIiGaqO",
        "outputId": "8ca2180d-5ebf-41f4-c5c9-ec576dee8765"
      },
      "execution_count": 19,
      "outputs": [
        {
          "output_type": "execute_result",
          "data": {
            "text/plain": [
              "479001600"
            ]
          },
          "metadata": {},
          "execution_count": 19
        }
      ]
    },
    {
      "cell_type": "code",
      "source": [
        "ab=1\n",
        "ab_1=1\n",
        "for j in range(r+1):\n",
        "  if j != 0:\n",
        "    ab=ab*j\n",
        "for k in range(n):\n",
        "  if k != 0:\n",
        "    ab_1=ab_1*k\n",
        "total= ar/(ab*ab_1)\n",
        "total"
      ],
      "metadata": {
        "colab": {
          "base_uri": "https://localhost:8080/"
        },
        "id": "MGYpOzJPG9Vj",
        "outputId": "62ad4dc4-d030-494b-9eb2-dfc794af65e4"
      },
      "execution_count": 22,
      "outputs": [
        {
          "output_type": "execute_result",
          "data": {
            "text/plain": [
              "66.0"
            ]
          },
          "metadata": {},
          "execution_count": 22
        }
      ]
    }
  ]
}