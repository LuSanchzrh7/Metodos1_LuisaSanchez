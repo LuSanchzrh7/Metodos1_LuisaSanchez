{
 "cells": [
  {
   "cell_type": "markdown",
   "metadata": {},
   "source": [
    "La distribución Beta está dada por: $$f(x;\\alpha ,\\beta )=\\frac{\\Gamma (\\alpha +\\beta )}{\\Gamma (\\alpha) \\Gamma(\\beta) }x^{\\alpha -1}(1-x)^{\\beta -1}, \\; \\; \\; 0\\leq x\\leq 1$$ donde $\\Gamma(n)=(n-1)!$. Para $f(x; 2,4)$, halle el área bajo la curva usando el método de aceptación y rechazo con una incertidumbre del $1\\%$."
   ]
  },
  {
   "cell_type": "code",
   "execution_count": 1,
   "metadata": {},
   "outputs": [],
   "source": [
    "import numpy as np\n",
    "import matplotlib.pyplot as plt"
   ]
  },
  {
   "cell_type": "code",
   "execution_count": 2,
   "metadata": {},
   "outputs": [],
   "source": [
    "alpha=2\n",
    "beta=4"
   ]
  },
  {
   "cell_type": "code",
   "execution_count": 15,
   "metadata": {},
   "outputs": [],
   "source": [
    "def f(x,alpha,beta):\n",
    "    return (x**(alpha-1)*(1-x)**(beta-1))*(np.math.gamma(alpha+beta)/((np.math.gamma(alpha)*np.math.gamma(alpha))))"
   ]
  },
  {
   "cell_type": "code",
   "execution_count": 16,
   "metadata": {},
   "outputs": [],
   "source": [
    "N=10000\n",
    "por=1/100\n",
    "inc=1/np.sqrt(N)"
   ]
  },
  {
   "cell_type": "code",
   "execution_count": 17,
   "metadata": {},
   "outputs": [
    {
     "data": {
      "text/plain": [
       "(0.01, 0.01)"
      ]
     },
     "execution_count": 17,
     "metadata": {},
     "output_type": "execute_result"
    }
   ],
   "source": [
    "inc,por"
   ]
  },
  {
   "cell_type": "code",
   "execution_count": 18,
   "metadata": {},
   "outputs": [],
   "source": [
    "def Integrate(a,b,N):\n",
    "    X = np.linspace(N,a,b)\n",
    "    Y = f(X,a,b)\n",
    "    M = np.max(Y)\n",
    "    \n",
    "    x_ac=np.array([])\n",
    "    y_ac=np.array([])\n",
    "    aceptados=0\n",
    "    \n",
    "    while len(x_ac) < N:\n",
    "        r1 = np.random.uniform(0,1)\n",
    "        r2 = np.random.uniform(0,M)\n",
    "        if r2 < f(r1,beta,alpha):\n",
    "            x_ac=np.append(x_ac,r1)\n",
    "            aceptados+=1\n",
    "    return aceptados/N"
   ]
  },
  {
   "cell_type": "code",
   "execution_count": 19,
   "metadata": {},
   "outputs": [],
   "source": [
    "Integral=Integrate(alpha,beta,N)"
   ]
  },
  {
   "cell_type": "code",
   "execution_count": 20,
   "metadata": {},
   "outputs": [
    {
     "name": "stdout",
     "output_type": "stream",
     "text": [
      "1.0\n"
     ]
    }
   ],
   "source": [
    "print(Integral)"
   ]
  },
  {
   "cell_type": "code",
   "execution_count": null,
   "metadata": {},
   "outputs": [],
   "source": []
  }
 ],
 "metadata": {
  "kernelspec": {
   "display_name": "Python 3",
   "language": "python",
   "name": "python3"
  },
  "language_info": {
   "codemirror_mode": {
    "name": "ipython",
    "version": 3
   },
   "file_extension": ".py",
   "mimetype": "text/x-python",
   "name": "python",
   "nbconvert_exporter": "python",
   "pygments_lexer": "ipython3",
   "version": "3.8.3"
  }
 },
 "nbformat": 4,
 "nbformat_minor": 4
}
