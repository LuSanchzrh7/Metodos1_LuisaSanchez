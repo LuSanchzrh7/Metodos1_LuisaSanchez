{
 "cells": [
  {
   "cell_type": "markdown",
   "metadata": {},
   "source": [
    "La siguiente integral multidimensional:$$\\int_0^1...\\int_0^12^{-7}\\left(\\sum_{i=1}^{8}x_i\\right)^2 dx_1dx_2...dx_8 $$ tiene el valor exacto $\\frac{25}{192}$ , usando el método de MonteCarlo estime esta integral con tres cifras de precisión."
   ]
  },
  {
   "cell_type": "code",
   "execution_count": 1,
   "metadata": {},
   "outputs": [],
   "source": [
    "import matplotlib.pyplot as plt\n",
    "import numpy as np"
   ]
  },
  {
   "cell_type": "code",
   "execution_count": 80,
   "metadata": {},
   "outputs": [],
   "source": [
    "def func(x_1,x_2,x_3,x_4,x_5,x_6,x_7,x_8):\n",
    "    return ((x_1+x_2+x_3+x_4+x_5+x_6+x_7+x_8)**2)"
   ]
  },
  {
   "cell_type": "code",
   "execution_count": 81,
   "metadata": {},
   "outputs": [],
   "source": [
    "def GetPoints(N):\n",
    "    \n",
    "    x_1=np.random.uniform(0,1,N) \n",
    "    x_2=np.random.uniform(0,1,N)\n",
    "    x_3=np.random.uniform(0,1,N)\n",
    "    x_4=np.random.uniform(0,1,N)\n",
    "    x_5=np.random.uniform(0,1,N)\n",
    "    x_6=np.random.uniform(0,1,N)\n",
    "    x_7=np.random.uniform(0,1,N)\n",
    "    x_8=np.random.uniform(0,1,N)\n",
    "    return x_1,x_2,x_3,x_4,x_5,x_6,x_7,x_8"
   ]
  },
  {
   "cell_type": "code",
   "execution_count": 82,
   "metadata": {},
   "outputs": [],
   "source": [
    "N=100000\n",
    "x1,x2,x3,x4,x5,x6,x7,x8=GetPoints(N)"
   ]
  },
  {
   "cell_type": "code",
   "execution_count": 83,
   "metadata": {},
   "outputs": [],
   "source": [
    "lim_a=0\n",
    "lim_b=1"
   ]
  },
  {
   "cell_type": "code",
   "execution_count": 84,
   "metadata": {},
   "outputs": [],
   "source": [
    "mean=np.average(func(x1,x2,x3,x4,x5,x6,x7,x8))\n",
    "suma=0\n",
    "for i in range(len(x1)):\n",
    "    suma+=func(x1[i],x2[i],x3[i],x4[i],x5[i],x6[i],x7[i],x8[i])"
   ]
  },
  {
   "cell_type": "code",
   "execution_count": 92,
   "metadata": {},
   "outputs": [],
   "source": [
    "I = suma*(lim_b-lim_a)**8*(1/N)*10**(-2)"
   ]
  },
  {
   "cell_type": "code",
   "execution_count": 95,
   "metadata": {},
   "outputs": [
    {
     "data": {
      "text/plain": [
       "0.1664808215973561"
      ]
     },
     "execution_count": 95,
     "metadata": {},
     "output_type": "execute_result"
    }
   ],
   "source": [
    "res=I\n",
    "res"
   ]
  },
  {
   "cell_type": "code",
   "execution_count": 94,
   "metadata": {},
   "outputs": [
    {
     "data": {
      "text/plain": [
       "0.13020833333333334"
      ]
     },
     "execution_count": 94,
     "metadata": {},
     "output_type": "execute_result"
    }
   ],
   "source": [
    "25/192"
   ]
  },
  {
   "cell_type": "code",
   "execution_count": null,
   "metadata": {},
   "outputs": [],
   "source": []
  }
 ],
 "metadata": {
  "kernelspec": {
   "display_name": "Python 3",
   "language": "python",
   "name": "python3"
  },
  "language_info": {
   "codemirror_mode": {
    "name": "ipython",
    "version": 3
   },
   "file_extension": ".py",
   "mimetype": "text/x-python",
   "name": "python",
   "nbconvert_exporter": "python",
   "pygments_lexer": "ipython3",
   "version": "3.8.3"
  }
 },
 "nbformat": 4,
 "nbformat_minor": 4
}
