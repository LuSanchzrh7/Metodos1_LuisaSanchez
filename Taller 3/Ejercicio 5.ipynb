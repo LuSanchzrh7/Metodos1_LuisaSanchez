{
  "cells": [
    {
      "metadata": {
        "trusted": true,
        "id": "41ac8a0e"
      },
      "id": "41ac8a0e",
      "cell_type": "code",
      "source": [
        "import numpy as np\n",
        "import matplotlib.pyplot as plt"
      ],
      "execution_count": 3,
      "outputs": []
    },
    {
      "metadata": {
        "trusted": true,
        "colab": {
          "base_uri": "https://localhost:8080/",
          "height": 265
        },
        "id": "12d5f2dd",
        "outputId": "bc5da6e8-0235-4c71-e254-cd70e5008861"
      },
      "id": "12d5f2dd",
      "cell_type": "code",
      "source": [
        "X = [0, 1, 2, 3, 4, 5]\n",
        "Y = [-18, -13, 0, 5, 3, 10]\n",
        "def NGInterpolationG(X,Y,x):\n",
        "    \n",
        "    sum_ = Y[0]\n",
        "    \n",
        "    Diff = np.zeros( (len(X),len(Y)+1) )\n",
        "    Diff[:,0] = X \n",
        "    Diff[:,1] = Y\n",
        "    \n",
        "    poly = 1.0\n",
        "\n",
        "    for i in range(2,len(Y)+1):\n",
        "        \n",
        "        poly *= (x-X[i-2])\n",
        "        \n",
        "        for j in range(i-1,len(X)):\n",
        "            Div = 0.\n",
        "            for c in range(j-(i-2),j+1):\n",
        "                Div += Diff[c,0]-Diff[c-1,0]\n",
        "            Diff[j,i] = (Diff[j,i-1]-Diff[j-1,i-1])/ Div\n",
        "            \n",
        "        sum_ += poly*Diff[i-1,i]\n",
        "        \n",
        "    return sum_, np.round(Diff,2)\n",
        "p, M =  NGInterpolationG(X,Y,9)\n",
        "xp = np.linspace(0,5,10000)\n",
        "yp = []\n",
        "\n",
        "for x in xp:\n",
        "    y,_ = NGInterpolationG(X,Y,x)\n",
        "    yp.append(y)\n",
        "plt.scatter(X,Y,color='g',label='Data')\n",
        "plt.plot(xp,yp,c='b',label='Polinomio Interpolante')\n",
        "plt.legend()\n",
        "plt.savefig(\"Semana4_Luisa Sanchez  Alejandra_Preciado.png\")"
      ],
      "execution_count": 5,
      "outputs": [
        {
          "output_type": "display_data",
          "data": {
            "text/plain": [
              "<Figure size 432x288 with 1 Axes>"
            ],
            "image/png": "[encoded data removed]"
          },
          "metadata": {
            "needs_background": "light"
          }
        }
      ]
    },
    {
      "metadata": {
        "trusted": true,
        "id": "MTrMam3msOZx"
      },
      "cell_type": "code",
      "source": [],
      "execution_count": null,
      "outputs": [],
      "id": "MTrMam3msOZx"
    }
  ],
  "metadata": {
    "kernelspec": {
      "name": "python3",
      "display_name": "Python 3",
      "language": "python"
    },
    "language_info": {
      "name": "python",
      "version": "3.7.10",
      "mimetype": "text/x-python",
      "codemirror_mode": {
        "name": "ipython",
        "version": 3
      },
      "pygments_lexer": "ipython3",
      "nbconvert_exporter": "python",
      "file_extension": ".py"
    },
    "colab": {
      "provenance": []
    }
  },
  "nbformat": 4,
  "nbformat_minor": 5
}