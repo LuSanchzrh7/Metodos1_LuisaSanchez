{
  "nbformat": 4,
  "nbformat_minor": 0,
  "metadata": {
    "colab": {
      "provenance": []
    },
    "kernelspec": {
      "name": "python3",
      "display_name": "Python 3"
    },
    "language_info": {
      "name": "python"
    }
  },
  "cells": [
    {
      "cell_type": "code",
      "execution_count": 52,
      "metadata": {
        "id": "sszjCGC2ddCs"
      },
      "outputs": [],
      "source": [
        "import numpy as np\n",
        "import matplotlib.pyplot as plt\n",
        "import itertools as iter"
      ]
    },
    {
      "cell_type": "code",
      "source": [
        "estados = np.array([0,1]) \n",
        "P_dato =  np.array([0.2,0.8])"
      ],
      "metadata": {
        "id": "c_WjeIKzJGGx"
      },
      "execution_count": 53,
      "outputs": []
    },
    {
      "cell_type": "code",
      "source": [
        "#prob truncada y no truncada\n",
        "T = np.array([[0.8,0.2],[0.2,0.8]])\n",
        "\n",
        "E = np.array([[0.5,0.9],[0.5,0.1]])"
      ],
      "metadata": {
        "id": "IHrD0DutJY1u"
      },
      "execution_count": 54,
      "outputs": []
    },
    {
      "cell_type": "code",
      "source": [
        "#asignacion de nombres a los eventos\n",
        "DictH = {0:'Justa',1:'Truncada'}\n",
        "DictO = {0:'Cara',1:'Sello'}"
      ],
      "metadata": {
        "id": "I6Gkc2_cJeNQ"
      },
      "execution_count": 55,
      "outputs": []
    },
    {
      "cell_type": "code",
      "source": [
        "o = np.array([1,0,0,0,1,0,1,0])"
      ],
      "metadata": {
        "id": "vb8UxQN8J9ms"
      },
      "execution_count": 56,
      "outputs": []
    },
    {
      "cell_type": "code",
      "source": [
        "def GetHiddenStates(States, N):\n",
        "    CStates = list( iter.combinations_with_replacement(States,N) )\n",
        "    Permu = []\n",
        "    for it in CStates:\n",
        "        p = list(iter.permutations(it,N))\n",
        "        for i in p:\n",
        "            if i not in Permu:\n",
        "                Permu.append(i)\n",
        "    print(CStates)\n",
        "    return np.array(Permu)"
      ],
      "metadata": {
        "id": "WfWUNmFiKKJv"
      },
      "execution_count": 57,
      "outputs": []
    },
    {
      "cell_type": "code",
      "source": [
        "def GetProb(T,E,Obs,State,Prior):\n",
        "    n = len(Obs)\n",
        "    p = 1.\n",
        "    p *= Prior[State[0] ]\n",
        "    for i in range(n-1):\n",
        "        p *= T[ State[i+1], State[i] ]\n",
        "    for i in range(n):\n",
        "        p *= E[ Obs[i], State[i] ]\n",
        "    return p"
      ],
      "metadata": {
        "id": "Xt7vCd29KZ1a"
      },
      "execution_count": 58,
      "outputs": []
    },
    {
      "cell_type": "code",
      "source": [
        "HStates = GetHiddenStates(estados,8)\n",
        "dim = HStates.shape[0]\n",
        "P = np.zeros(dim)\n",
        "\n",
        "for i in range(dim):\n",
        "    P[i] = GetProb(T,E,o,HStates[i],P_dato)"
      ],
      "metadata": {
        "colab": {
          "base_uri": "https://localhost:8080/"
        },
        "id": "87aYG0RAKjpy",
        "outputId": "f0df2c80-b8cd-4b61-c40c-f81672e8fc3a"
      },
      "execution_count": 59,
      "outputs": [
        {
          "output_type": "stream",
          "name": "stdout",
          "text": [
            "[(0, 0, 0, 0, 0, 0, 0, 0), (0, 0, 0, 0, 0, 0, 0, 1), (0, 0, 0, 0, 0, 0, 1, 1), (0, 0, 0, 0, 0, 1, 1, 1), (0, 0, 0, 0, 1, 1, 1, 1), (0, 0, 0, 1, 1, 1, 1, 1), (0, 0, 1, 1, 1, 1, 1, 1), (0, 1, 1, 1, 1, 1, 1, 1), (1, 1, 1, 1, 1, 1, 1, 1)]\n"
          ]
        }
      ]
    },
    {
      "cell_type": "code",
      "source": [
        "#P mas comun\n",
        "maxP = np.max(P)\n",
        "ii = np.where( P == np.amax(P))\n",
        "print(HStates[ii],maxP)"
      ],
      "metadata": {
        "colab": {
          "base_uri": "https://localhost:8080/"
        },
        "id": "lnMooGjELJ-P",
        "outputId": "7b9f9d3a-8a30-49d4-c0ef-39f0f751fe17"
      },
      "execution_count": 60,
      "outputs": [
        {
          "output_type": "stream",
          "name": "stdout",
          "text": [
            "[[1 1 1 1 0 0 0 0]] 0.0001911029760000001\n"
          ]
        }
      ]
    },
    {
      "cell_type": "code",
      "source": [
        "plt.plot(P,color='r')\n",
        "plt.axhline(y=maxP)"
      ],
      "metadata": {
        "colab": {
          "base_uri": "https://localhost:8080/",
          "height": 286
        },
        "id": "XGfluHL0LSa-",
        "outputId": "1a702cba-290e-42c8-f99d-091cc3e7b15f"
      },
      "execution_count": 61,
      "outputs": [
        {
          "output_type": "execute_result",
          "data": {
            "text/plain": [
              "<matplotlib.lines.Line2D at 0x7f0be5368650>"
            ]
          },
          "metadata": {},
          "execution_count": 61
        },
        {
          "output_type": "display_data",
          "data": {
            "text/plain": [
              "<Figure size 432x288 with 1 Axes>"
            ],
            "image/png": "[encoded data removed]"
          },
          "metadata": {
            "needs_background": "light"
          }
        }
      ]
    },
    {
      "cell_type": "code",
      "source": [
        "#suma de las p de todas las posibilidades de combinatoria\n",
        "HStates_all = GetHiddenStates(estados,8)\n",
        "ObservedStates = HStates_all\n",
        "D = HStates_all.shape[0]\n",
        "P = np.zeros(dim) "
      ],
      "metadata": {
        "colab": {
          "base_uri": "https://localhost:8080/"
        },
        "id": "miI2u4CXLZGJ",
        "outputId": "1b3091af-dcdb-43c6-d90c-5b7b34987ee4"
      },
      "execution_count": 62,
      "outputs": [
        {
          "output_type": "stream",
          "name": "stdout",
          "text": [
            "[(0, 0, 0, 0, 0, 0, 0, 0), (0, 0, 0, 0, 0, 0, 0, 1), (0, 0, 0, 0, 0, 0, 1, 1), (0, 0, 0, 0, 0, 1, 1, 1), (0, 0, 0, 0, 1, 1, 1, 1), (0, 0, 0, 1, 1, 1, 1, 1), (0, 0, 1, 1, 1, 1, 1, 1), (0, 1, 1, 1, 1, 1, 1, 1), (1, 1, 1, 1, 1, 1, 1, 1)]\n"
          ]
        }
      ]
    },
    {
      "cell_type": "code",
      "source": [
        "for i in range(D):\n",
        "    P[i] = GetProb(T,E,o,HStates_all[i],P_dato)\n",
        "P_i = np.zeros((D, D))\n",
        "for j in range(D):\n",
        "  o = ObservedStates[j]\n",
        "  for i in range(D):\n",
        "      P_i[i][j] = GetProb(T,E,o,HStates_all[i],P_dato)\n",
        "total_p = np.sum(P_i)"
      ],
      "metadata": {
        "id": "GhCwzWzxLuY3"
      },
      "execution_count": 63,
      "outputs": []
    },
    {
      "cell_type": "code",
      "source": [
        "print(total_p,round(total_p,3)) # ese 4 al final se debe a errores de aproximación"
      ],
      "metadata": {
        "colab": {
          "base_uri": "https://localhost:8080/"
        },
        "id": "3XOPX5eUMFPP",
        "outputId": "7a4cda03-1a2b-42c3-d5ae-24fd0cf76d90"
      },
      "execution_count": 64,
      "outputs": [
        {
          "output_type": "stream",
          "name": "stdout",
          "text": [
            "1.0000000000000004 1.0\n"
          ]
        }
      ]
    }
  ]
}