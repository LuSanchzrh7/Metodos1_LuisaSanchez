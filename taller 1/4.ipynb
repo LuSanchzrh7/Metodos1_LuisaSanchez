{
  "nbformat": 4,
  "nbformat_minor": 0,
  "metadata": {
    "colab": {
      "name": "4.ipynb",
      "provenance": [],
      "collapsed_sections": []
    },
    "kernelspec": {
      "name": "python3",
      "display_name": "Python 3"
    },
    "language_info": {
      "name": "python"
    }
  },
  "cells": [
    {
      "cell_type": "code",
      "execution_count": 2,
      "metadata": {
        "colab": {
          "base_uri": "https://localhost:8080/"
        },
        "id": "0QVcdkKqoI6M",
        "outputId": "ab1d48c5-a6dc-4084-821f-5956e29c783f"
      },
      "outputs": [
        {
          "output_type": "stream",
          "name": "stdout",
          "text": [
            "['4.096161527792', '1.009015']\n"
          ]
        }
      ],
      "source": [
        "datos2 =[]\n",
        "with open(\"EstrellaEspectro.txt\") as fname:\n",
        "\tfor lineas in fname:\n",
        "\t\tdatos2.append(lineas.split())\n",
        "print(max(datos2))"
      ]
    }
  ]
}