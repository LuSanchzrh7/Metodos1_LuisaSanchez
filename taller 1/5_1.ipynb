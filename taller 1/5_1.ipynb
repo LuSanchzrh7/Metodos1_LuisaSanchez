{
  "nbformat": 4,
  "nbformat_minor": 0,
  "metadata": {
    "colab": {
      "name": "5.1.ipynb",
      "provenance": []
    },
    "kernelspec": {
      "name": "python3",
      "display_name": "Python 3"
    },
    "language_info": {
      "name": "python"
    }
  },
  "cells": [
    {
      "cell_type": "code",
      "execution_count": 21,
      "metadata": {
        "colab": {
          "base_uri": "https://localhost:8080/"
        },
        "id": "jzKUvjy_W8lt",
        "outputId": "8bb215c2-afb7-47a3-bed8-f0e6e1a8ff85"
      },
      "outputs": [
        {
          "output_type": "stream",
          "name": "stdout",
          "text": [
            "2   1\n",
            "3   2\n",
            "5   3\n",
            "7   4\n",
            "11   5\n",
            "13   6\n",
            "17   7\n",
            "19   8\n",
            "23   9\n",
            "29   10\n"
          ]
        }
      ],
      "source": [
        "import matplotlib\n",
        "import matplotlib.pyplot as plt\n",
        "import numpy as np\n",
        "\n",
        "n= 1\n",
        "primos=[]\n",
        "count = []\n",
        "c = 1;\n",
        "while n <=1000:\n",
        "    contador=1\n",
        "    x=0\n",
        "    while contador <= n:\n",
        "        if n % contador ==0:\n",
        "            x=x+1\n",
        "        contador = contador +1\n",
        "    if x ==2:\n",
        "        primos.append(n)\n",
        "        count.append(c)\n",
        "        c+=1\n",
        "    n = n +1\n",
        "for i in range(0,10):\n",
        "    print(primos[i], \" \",count[i])\n"
      ]
    },
    {
      "cell_type": "markdown",
      "source": [
        ""
      ],
      "metadata": {
        "id": "e-ab5lc6YZae"
      }
    },
    {
      "cell_type": "code",
      "source": [
        "x = primos\n",
        "y = count\n",
        "\n",
        "plt.plot(x,y)\n",
        "plt.xlabel('x')\n",
        "plt.ylabel('y')\n",
        "plt.title('Primos')\n",
        "plt.show()"
      ],
      "metadata": {
        "colab": {
          "base_uri": "https://localhost:8080/",
          "height": 295
        },
        "id": "5vJVnaU6YDOc",
        "outputId": "270f0226-9d78-4266-8222-12fe2da2155a"
      },
      "execution_count": 22,
      "outputs": [
        {
          "output_type": "display_data",
          "data": {
            "text/plain": [
              "<Figure size 432x288 with 1 Axes>"
            ],
            "image/png": "[encoded data removed]"
          },
          "metadata": {
            "needs_background": "light"
          }
        }
      ]
    }
  ]
}